{
 "metadata": {
  "signature": "sha256:effb751e6c0323f4ec6a9a0104e2030b56c377aff9eb84082b2bd13d4bc0b001"
 },
 "nbformat": 3,
 "nbformat_minor": 0,
 "worksheets": [
  {
   "cells": [
    {
     "cell_type": "markdown",
     "metadata": {},
     "source": [
      "MUSIC014/102 - Music, Information, Neuroscience - Professor Michael Casey, 1/7/2015\n",
      "===================================================================================\n",
      "# Week 1 Lab\n",
      "## Using the Plompt and Levelt dissonance function"
     ]
    },
    {
     "cell_type": "markdown",
     "metadata": {},
     "source": [
      " "
     ]
    },
    {
     "cell_type": "markdown",
     "metadata": {},
     "source": [
      " "
     ]
    },
    {
     "cell_type": "markdown",
     "metadata": {},
     "source": [
      "### We first include some libraries that will allow us to load sound files, plot figures, and playback audio"
     ]
    },
    {
     "cell_type": "code",
     "collapsed": false,
     "input": [
      "from pylab import *\n",
      "from bregman.suite import *\n",
      "import scipy.signal as signal\n",
      "import pdb"
     ],
     "language": "python",
     "metadata": {},
     "outputs": [],
     "prompt_number": 1
    },
    {
     "cell_type": "markdown",
     "metadata": {},
     "source": [
      "### The next line tells ipython that we'd like to plot all figures directly in the browser"
     ]
    },
    {
     "cell_type": "code",
     "collapsed": false,
     "input": [
      "%matplotlib inline"
     ],
     "language": "python",
     "metadata": {},
     "outputs": [],
     "prompt_number": 2
    },
    {
     "cell_type": "markdown",
     "metadata": {},
     "source": [
      "### This is our first function definition. The function is called `ideal_chromatic_dissonance` and has 2 possible parameters: `num_harmonics` and `f0`.  We set these parameters to `7` and `440` as default values.  Whenever we \"call\" this function, it returns an array of chromatic dissonance values based on the parameters we have sent it for the number of harmonics and the fundamental frequency."
     ]
    },
    {
     "cell_type": "code",
     "collapsed": false,
     "input": [
      "def ideal_chromatic_dissonance(num_harmonics=7, f0=440):\n",
      "    \"\"\"\n",
      "    One octave of chromatic dissonance values\n",
      "    \"\"\"\n",
      "    harms = arange(num_harmonics)+1\n",
      "    freqs = [f0*i for i in harms]\n",
      "    amps = [exp(-.5*i) for i in harms]\n",
      "    freqs2 = array([[f0*2**(k/12.)*i for i in harms] for k in range(0,13)])\n",
      "\n",
      "    all_amps = r_[amps,amps]\n",
      "    diss = []\n",
      "    for f in freqs2:\n",
      "        all_freqs = r_[freqs,f]\n",
      "        idx = all_freqs.argsort()\n",
      "        diss.append(dissonance_fun(all_freqs[idx], all_amps[idx]))\n",
      "    return array(diss)"
     ],
     "language": "python",
     "metadata": {},
     "outputs": [],
     "prompt_number": 3
    },
    {
     "cell_type": "markdown",
     "metadata": {},
     "source": [
      "### We can use the following function to find possible peaks in `F`, representing the features from a signal.  Stored in `F.X` is the [Short-Time-Fourier-Transform](https://en.wikipedia.org/wiki/Short-time_Fourier_transform).  By finding peaks in our frequency transform, we can better understand where most of the energy of a signal is located in terms of its frequencies, rather than working with all frequency values.  We'll need this function when calculating the dissonance."
     ]
    },
    {
     "cell_type": "code",
     "collapsed": false,
     "input": [
      "def get_peaks(F):\n",
      "    \"\"\"\n",
      "    Extract peaks from linear spectrum in F\n",
      "    Algorithm 1: zero-crossings of derivative of smoothed spectrum\n",
      "    \"\"\"\n",
      "    X = F.X.copy()\n",
      "    b,a = signal.butter(10, .25) # lp filter coefficients\n",
      "    # Smoothing\n",
      "    signal.filtfilt(b,a,X,axis=0)\n",
      "    # Derivative\n",
      "    Xd = diff(X,axis=0)\n",
      "    # Zero crossing\n",
      "    thresh=1e-9\n",
      "    peak_idx = []\n",
      "    for i,x in enumerate(Xd.T):\n",
      "        idx = where((x[:-1]>thresh)&(x[1:]<-thresh))[0] + 1\n",
      "        if len(idx):\n",
      "            idx = idx[X[idx,i].argsort()][::-1]\n",
      "        peak_idx.append(idx)\n",
      "    return peak_idx"
     ],
     "language": "python",
     "metadata": {},
     "outputs": [],
     "prompt_number": 4
    },
    {
     "cell_type": "markdown",
     "metadata": {},
     "source": [
      "### This function produces a signal which we could directly send to the speaker, or pass to a Fourier transform.  We'll plot the output of this function later."
     ]
    },
    {
     "cell_type": "code",
     "collapsed": false,
     "input": [
      "def audio_chromatic_scale(f0=440, num_harmonics=7):\n",
      "    N = 11025\n",
      "    nH = num_harmonics\n",
      "    H = vstack([harmonics(f0=f0*2**(k/12.),num_harmonics=nH, num_points=N) for k in arange(13)])\n",
      "    return H"
     ],
     "language": "python",
     "metadata": {},
     "outputs": [],
     "prompt_number": 5
    },
    {
     "cell_type": "markdown",
     "metadata": {},
     "source": [
      "### This function will take a fundamental, number of harmonics, and number of peaks to select from a Fourier transform, and return the dissonance values from each note of a chromatic scale."
     ]
    },
    {
     "cell_type": "code",
     "collapsed": false,
     "input": [
      "def audio_chromatic_dissonance(f0=440, num_harmonics=7, num_peaks=10):\n",
      "    sr = 44100\n",
      "    nfft = 8192\n",
      "    afreq = sr/nfft\n",
      "    H = audio_chromatic_scale(f0=f0, num_harmonics=num_harmonics)\n",
      "    h0 = H[0]\n",
      "    diss = []\n",
      "    for i,h in enumerate(H):\n",
      "        F = LinearFrequencySpectrum((h0+h)/2.,nfft=nfft,wfft=nfft/2,nhop=nfft/4)\n",
      "        P = get_peaks(F)\n",
      "        frame = []\n",
      "        for j,p in enumerate(P):\n",
      "            freqs = afreq*p[:num_peaks] # take middle frame as reference\n",
      "            mags = F.X[p[:num_peaks],j]\n",
      "            idx = freqs.argsort()\n",
      "            frame.append(dissonance_fun(freqs[idx],mags[idx]))        \n",
      "        diss.append(array(frame).mean())\n",
      "    return array(diss)"
     ],
     "language": "python",
     "metadata": {},
     "outputs": [],
     "prompt_number": 6
    },
    {
     "cell_type": "markdown",
     "metadata": {},
     "source": [
      "### Finally, this function will help us plot/visualize dissonance values for an entire scale, again using the parameters of a fundamental frequency, number of harmonics, and number of peaks."
     ]
    },
    {
     "cell_type": "code",
     "collapsed": false,
     "input": [
      "def dissonance_plot(f0=440, num_harmonics=7, num_peaks=10):\n",
      "    figure()\n",
      "    diss_i = ideal_chromatic_dissonance(f0=f0, num_harmonics=num_harmonics)\n",
      "    diss = audio_chromatic_dissonance(f0=f0, num_harmonics=num_harmonics, num_peaks=num_peaks)\n",
      "    plot(diss_i / diss_i.max(), linestyle='--', linewidth=2)\n",
      "    plot(diss / diss.max())\n",
      "    t_str = 'f0=%d, partials=%d, peaks=%d'%(f0,num_harmonics,num_peaks)\n",
      "    title('Dissonance (chromatic): '+t_str,fontsize=16)\n",
      "    legend(['ideal','estimated'])\n",
      "    xlabel('Pitch class (chroma)',fontsize=14)\n",
      "    ylabel('Dissonance',fontsize=14)\n",
      "    grid()"
     ],
     "language": "python",
     "metadata": {},
     "outputs": [],
     "prompt_number": 7
    },
    {
     "cell_type": "markdown",
     "metadata": {},
     "source": [
      "### Let's first try the last function and see what dissonance values look like for a chromatic scale.  We \"call\" the function by writing it's name, and setting any possible parameters that we'd like to change from the default values.  Here we simply replicate the default behavior by passing the same default values to each parameter."
     ]
    },
    {
     "cell_type": "code",
     "collapsed": false,
     "input": [
      "dissonance_plot(f0=440, num_harmonics=7, num_peaks=10)"
     ],
     "language": "python",
     "metadata": {},
     "outputs": [
      {
       "metadata": {},
       "output_type": "display_data",
       "png": "[encoded data removed]",
       "text": [
        "<matplotlib.figure.Figure at 0x10c89b510>"
       ]
      }
     ],
     "prompt_number": 8
    },
    {
     "cell_type": "markdown",
     "metadata": {},
     "source": [
      "### Looking at the above plot, on the x-axis, we see the different possible chroma values from the entire scale sequence.  On the y-axis, we have the dissonance values.  Try changing the values of `f0`, `num_harmonics`, and `num_peaks` to see how they effect the resulting plot.  What are each of these values doing?"
     ]
    },
    {
     "cell_type": "markdown",
     "metadata": {},
     "source": [
      "### Let's break down the dissonance computation a bit.  We can first use the function `audio_chromatic_scale` to get a 13 x 11025 samples array of notes.  "
     ]
    },
    {
     "cell_type": "code",
     "collapsed": false,
     "input": [
      "notes = audio_chromatic_scale(f0 = 440, num_harmonics = 7)\n",
      "print notes.shape"
     ],
     "language": "python",
     "metadata": {},
     "outputs": [
      {
       "output_type": "stream",
       "stream": "stdout",
       "text": [
        "(13, 11025)\n"
       ]
      }
     ],
     "prompt_number": 9
    },
    {
     "cell_type": "markdown",
     "metadata": {},
     "source": [
      "### Because there are 13 notes, the first dimension is 13.  The second dimension is the number of samples of our waveform, or 11025.  We can play each of these samples as an audio signal through the speaker.  We can use the `hstack` function to combine all notes into one long sequence, and the play function to play the entire sequence:"
     ]
    },
    {
     "cell_type": "code",
     "collapsed": false,
     "input": [
      "play(hstack(notes))"
     ],
     "language": "python",
     "metadata": {},
     "outputs": [],
     "prompt_number": 10
    },
    {
     "cell_type": "markdown",
     "metadata": {},
     "source": [
      "### Or we can visualize it as a signal"
     ]
    },
    {
     "cell_type": "code",
     "collapsed": false,
     "input": [
      "plt.plot(hstack(notes))"
     ],
     "language": "python",
     "metadata": {},
     "outputs": [
      {
       "metadata": {},
       "output_type": "pyout",
       "prompt_number": 11,
       "text": [
        "[<matplotlib.lines.Line2D at 0x10ec86cd0>]"
       ]
      },
      {
       "metadata": {},
       "output_type": "display_data",
       "png": "[encoded data removed]",
       "text": [
        "<matplotlib.figure.Figure at 0x10ee64f50>"
       ]
      }
     ],
     "prompt_number": 11
    },
    {
     "cell_type": "markdown",
     "metadata": {},
     "source": [
      "### Because there are so many \"samples\" or discretely sampled points of the signal/waveform, we cannot really tell from the plot what our signal looks like.  Let's just take a short chunk of it from the first note.  Remember that our `notes` array is 13 x 11025.  To access the first note, we can say: `notes[0]`.  We index the first note with 0 and the last one with 12.  The dimension of each note is 11025 samples.  Let's try visualizing just the first note and the first 400 samples of that note:"
     ]
    },
    {
     "cell_type": "code",
     "collapsed": false,
     "input": [
      "plt.plot(notes[0][:400])"
     ],
     "language": "python",
     "metadata": {},
     "outputs": [
      {
       "metadata": {},
       "output_type": "pyout",
       "prompt_number": 12,
       "text": [
        "[<matplotlib.lines.Line2D at 0x10ec2a710>]"
       ]
      },
      {
       "metadata": {},
       "output_type": "display_data",
       "png": "[encoded data removed]",
       "text": [
        "<matplotlib.figure.Figure at 0x10ecae310>"
       ]
      }
     ]
    },
    {
     "cell_type": "markdown",
     "metadata": {},
     "source": [
      "### That's a pretty weird signal...  If we try looking at a simpler signal without so many harmonics, maybe it will look more like a sine wave.  Let's try:"
     ]
    },
    {
     "cell_type": "code",
     "collapsed": false,
     "input": [
      "F = 440\n",
      "N = 1\n",
      "notes = audio_chromatic_scale(f0 = F, num_harmonics = N)\n",
      "plt.plot(notes[0][:400])\n",
      "play(hstack(notes))\n",
      "dissonance_plot(f0 = F, num_harmonics = N, num_peaks = 2)"
     ],
     "language": "python",
     "metadata": {},
     "outputs": []
    },
    {
     "cell_type": "markdown",
     "metadata": {},
     "source": [
      "### That looks more familiar.  Try changing the parameter of `f0` and `num_harmonics` and both visualize and play the sounds to see how it changes the signal and dissonance values."
     ]
    },
    {
     "cell_type": "markdown",
     "metadata": {},
     "source": [
      "### Let's now delve a bit into the Fourier Transform itself and see how we can compute the \"spectrum\".  I will copy and paste some of the code from the function `audio_chromatic_dissonance` which neatly describes the process already"
     ]
    },
    {
     "cell_type": "code",
     "collapsed": false,
     "input": [
      "# Let's try a fundamental frequency of 440\n",
      "F = 440\n",
      "\n",
      "# With 7 harmonics\n",
      "H = 7\n",
      "\n",
      "# sr, or sample rate, describes how many samples we'd like in a single second of audio data\n",
      "sr = 44100 \n",
      "\n",
      "# this is how many samples we'll use when calculating the FFT\n",
      "nfft = 8192\n",
      "\n",
      "# Let's get the signal \n",
      "H = audio_chromatic_scale(f0 = F, num_harmonics = H)\n",
      "\n",
      "# The first note is stored in H[0]\n",
      "h0 = H[0]"
     ],
     "language": "python",
     "metadata": {},
     "outputs": []
    },
    {
     "cell_type": "markdown",
     "metadata": {},
     "source": [
      "### Now we'll use the linear spectrum function to get a bunch of possible features"
     ]
    },
    {
     "cell_type": "code",
     "collapsed": false,
     "input": [
      "F = LinearFrequencySpectrum(h0,nfft=nfft,wfft=nfft/2,nhop=nfft/4)"
     ],
     "language": "python",
     "metadata": {},
     "outputs": []
    },
    {
     "cell_type": "markdown",
     "metadata": {},
     "source": [
      "### Inside `F` is a variable `X` which stores the Short Time Fourier Transform"
     ]
    },
    {
     "cell_type": "code",
     "collapsed": false,
     "input": [
      "print F.X.shape"
     ],
     "language": "python",
     "metadata": {},
     "outputs": []
    },
    {
     "cell_type": "markdown",
     "metadata": {},
     "source": [
      "### Let's just look at a small portion of this spectrum:"
     ]
    },
    {
     "cell_type": "code",
     "collapsed": false,
     "input": [
      "stfts = F.X[:100,:]"
     ],
     "language": "python",
     "metadata": {},
     "outputs": []
    },
    {
     "cell_type": "markdown",
     "metadata": {},
     "source": [
      "### And plot it using the x-axis in terms of Frequency Bins."
     ]
    },
    {
     "cell_type": "code",
     "collapsed": false,
     "input": [
      "plt.plot(np.arange(stfts.shape[0]) * sr / nfft, stfts)"
     ],
     "language": "python",
     "metadata": {},
     "outputs": []
    },
    {
     "cell_type": "markdown",
     "metadata": {},
     "source": [
      "### The `get_peaks` function will take as input a STFT and return the peaks:"
     ]
    },
    {
     "cell_type": "code",
     "collapsed": false,
     "input": [
      "P = get_peaks(F)"
     ],
     "language": "python",
     "metadata": {},
     "outputs": []
    },
    {
     "cell_type": "markdown",
     "metadata": {},
     "source": [
      "### We can see where these peaks are located for the first note, e.g.:"
     ]
    },
    {
     "cell_type": "code",
     "collapsed": false,
     "input": [
      "P[0] * sr / nfft"
     ],
     "language": "python",
     "metadata": {},
     "outputs": []
    },
    {
     "cell_type": "markdown",
     "metadata": {},
     "source": [
      "### Extra-credit: Try writing your own dissonance function which takes any signal and computes the dissonance plot.  Try loading a sound file or combining different sine waves to see how the dissonance function is changed."
     ]
    },
    {
     "cell_type": "code",
     "collapsed": false,
     "input": [],
     "language": "python",
     "metadata": {},
     "outputs": []
    }
   ],
   "metadata": {}
  }
 ]
}